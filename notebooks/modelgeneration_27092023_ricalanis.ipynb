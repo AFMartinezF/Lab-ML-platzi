{
 "cells": [
  {
   "cell_type": "markdown",
   "id": "3dbce2b2",
   "metadata": {},
   "source": [
    "## Presprocesamiento de los datos"
   ]
  },
  {
   "cell_type": "code",
   "execution_count": 1,
   "id": "9de64c0d-889e-483d-9921-25cbe60cedf4",
   "metadata": {},
   "outputs": [],
   "source": [
    "import os\n",
    "import pandas as pd"
   ]
  },
  {
   "cell_type": "code",
   "execution_count": 2,
   "id": "ddef4e47-253e-427f-b3c5-0f3f6cdacbac",
   "metadata": {},
   "outputs": [],
   "source": [
    "# Cambiar directorio\n",
    "os.chdir(\"..\")"
   ]
  },
  {
   "cell_type": "code",
   "execution_count": 3,
   "id": "45a2377a-c148-44d4-b936-800d57362bcb",
   "metadata": {},
   "outputs": [],
   "source": [
    "# Cargar los datos que tenemos disponibles\n",
    "data = pd.read_csv(\"data/raw/churn.csv\")\n"
   ]
  },
  {
   "cell_type": "code",
   "execution_count": 4,
   "id": "e6e35832-17f4-43b3-adcc-5de303725f8d",
   "metadata": {},
   "outputs": [
    {
     "data": {
      "text/html": [
       "<div>\n",
       "<style scoped>\n",
       "    .dataframe tbody tr th:only-of-type {\n",
       "        vertical-align: middle;\n",
       "    }\n",
       "\n",
       "    .dataframe tbody tr th {\n",
       "        vertical-align: top;\n",
       "    }\n",
       "\n",
       "    .dataframe thead th {\n",
       "        text-align: right;\n",
       "    }\n",
       "</style>\n",
       "<table border=\"1\" class=\"dataframe\">\n",
       "  <thead>\n",
       "    <tr style=\"text-align: right;\">\n",
       "      <th></th>\n",
       "      <th>RowNumber</th>\n",
       "      <th>CustomerId</th>\n",
       "      <th>Surname</th>\n",
       "      <th>CreditScore</th>\n",
       "      <th>Geography</th>\n",
       "      <th>Gender</th>\n",
       "      <th>Age</th>\n",
       "      <th>Tenure</th>\n",
       "      <th>Balance</th>\n",
       "      <th>NumOfProducts</th>\n",
       "      <th>HasCrCard</th>\n",
       "      <th>IsActiveMember</th>\n",
       "      <th>EstimatedSalary</th>\n",
       "      <th>Exited</th>\n",
       "    </tr>\n",
       "  </thead>\n",
       "  <tbody>\n",
       "    <tr>\n",
       "      <th>0</th>\n",
       "      <td>1</td>\n",
       "      <td>15634602</td>\n",
       "      <td>Hargrave</td>\n",
       "      <td>619</td>\n",
       "      <td>France</td>\n",
       "      <td>Female</td>\n",
       "      <td>42</td>\n",
       "      <td>2</td>\n",
       "      <td>0.00</td>\n",
       "      <td>1</td>\n",
       "      <td>1</td>\n",
       "      <td>1</td>\n",
       "      <td>101348.88</td>\n",
       "      <td>1</td>\n",
       "    </tr>\n",
       "    <tr>\n",
       "      <th>1</th>\n",
       "      <td>2</td>\n",
       "      <td>15647311</td>\n",
       "      <td>Hill</td>\n",
       "      <td>608</td>\n",
       "      <td>Spain</td>\n",
       "      <td>Female</td>\n",
       "      <td>41</td>\n",
       "      <td>1</td>\n",
       "      <td>83807.86</td>\n",
       "      <td>1</td>\n",
       "      <td>0</td>\n",
       "      <td>1</td>\n",
       "      <td>112542.58</td>\n",
       "      <td>0</td>\n",
       "    </tr>\n",
       "    <tr>\n",
       "      <th>2</th>\n",
       "      <td>3</td>\n",
       "      <td>15619304</td>\n",
       "      <td>Onio</td>\n",
       "      <td>502</td>\n",
       "      <td>France</td>\n",
       "      <td>Female</td>\n",
       "      <td>42</td>\n",
       "      <td>8</td>\n",
       "      <td>159660.80</td>\n",
       "      <td>3</td>\n",
       "      <td>1</td>\n",
       "      <td>0</td>\n",
       "      <td>113931.57</td>\n",
       "      <td>1</td>\n",
       "    </tr>\n",
       "    <tr>\n",
       "      <th>3</th>\n",
       "      <td>4</td>\n",
       "      <td>15701354</td>\n",
       "      <td>Boni</td>\n",
       "      <td>699</td>\n",
       "      <td>France</td>\n",
       "      <td>Female</td>\n",
       "      <td>39</td>\n",
       "      <td>1</td>\n",
       "      <td>0.00</td>\n",
       "      <td>2</td>\n",
       "      <td>0</td>\n",
       "      <td>0</td>\n",
       "      <td>93826.63</td>\n",
       "      <td>0</td>\n",
       "    </tr>\n",
       "    <tr>\n",
       "      <th>4</th>\n",
       "      <td>5</td>\n",
       "      <td>15737888</td>\n",
       "      <td>Mitchell</td>\n",
       "      <td>850</td>\n",
       "      <td>Spain</td>\n",
       "      <td>Female</td>\n",
       "      <td>43</td>\n",
       "      <td>2</td>\n",
       "      <td>125510.82</td>\n",
       "      <td>1</td>\n",
       "      <td>1</td>\n",
       "      <td>1</td>\n",
       "      <td>79084.10</td>\n",
       "      <td>0</td>\n",
       "    </tr>\n",
       "  </tbody>\n",
       "</table>\n",
       "</div>"
      ],
      "text/plain": [
       "   RowNumber  CustomerId   Surname  CreditScore Geography  Gender  Age  \\\n",
       "0          1    15634602  Hargrave          619    France  Female   42   \n",
       "1          2    15647311      Hill          608     Spain  Female   41   \n",
       "2          3    15619304      Onio          502    France  Female   42   \n",
       "3          4    15701354      Boni          699    France  Female   39   \n",
       "4          5    15737888  Mitchell          850     Spain  Female   43   \n",
       "\n",
       "   Tenure    Balance  NumOfProducts  HasCrCard  IsActiveMember  \\\n",
       "0       2       0.00              1          1               1   \n",
       "1       1   83807.86              1          0               1   \n",
       "2       8  159660.80              3          1               0   \n",
       "3       1       0.00              2          0               0   \n",
       "4       2  125510.82              1          1               1   \n",
       "\n",
       "   EstimatedSalary  Exited  \n",
       "0        101348.88       1  \n",
       "1        112542.58       0  \n",
       "2        113931.57       1  \n",
       "3         93826.63       0  \n",
       "4         79084.10       0  "
      ]
     },
     "execution_count": 4,
     "metadata": {},
     "output_type": "execute_result"
    }
   ],
   "source": [
    "data.head(5)"
   ]
  },
  {
   "cell_type": "code",
   "execution_count": 5,
   "id": "3da27622-b70d-45bb-9efb-bd94bd4fb0a7",
   "metadata": {},
   "outputs": [],
   "source": [
    "# Nos deshacemos de las columnas que no contribuyen en mucho\n",
    "data = data.drop(data.columns[0:3], axis=1)"
   ]
  },
  {
   "cell_type": "code",
   "execution_count": 6,
   "id": "b8f22789",
   "metadata": {},
   "outputs": [
    {
     "data": {
      "text/plain": [
       "CreditScore        0\n",
       "Geography          0\n",
       "Gender             0\n",
       "Age                0\n",
       "Tenure             0\n",
       "Balance            0\n",
       "NumOfProducts      0\n",
       "HasCrCard          0\n",
       "IsActiveMember     0\n",
       "EstimatedSalary    0\n",
       "Exited             0\n",
       "dtype: int64"
      ]
     },
     "execution_count": 6,
     "metadata": {},
     "output_type": "execute_result"
    }
   ],
   "source": [
    "data.isna().sum()"
   ]
  },
  {
   "cell_type": "code",
   "execution_count": 7,
   "id": "e757c386",
   "metadata": {},
   "outputs": [
    {
     "data": {
      "text/plain": [
       "CreditScore          int64\n",
       "Geography           object\n",
       "Gender              object\n",
       "Age                  int64\n",
       "Tenure               int64\n",
       "Balance            float64\n",
       "NumOfProducts        int64\n",
       "HasCrCard            int64\n",
       "IsActiveMember       int64\n",
       "EstimatedSalary    float64\n",
       "Exited               int64\n",
       "dtype: object"
      ]
     },
     "execution_count": 7,
     "metadata": {},
     "output_type": "execute_result"
    }
   ],
   "source": [
    "data.dtypes"
   ]
  },
  {
   "cell_type": "code",
   "execution_count": 8,
   "id": "c6519a08-642b-4ce3-8800-bfd80be89989",
   "metadata": {},
   "outputs": [],
   "source": [
    "# Convertimos los datos en formato categorico, para más info: shorturl.at/y0269\n",
    "column_equivalence = {}\n",
    "features = list(data.columns)\n",
    "# Iteramos sobre los tipos de datos de cada columna, convirtiéndolos a string para poder compararlos\n",
    "for i, column in enumerate(list([str(d) for d in data.dtypes])):\n",
    "    # Si la columna es de tipo 'object' (categoría o texto)\n",
    "    if column == \"object\":\n",
    "        data[data.columns[i]] = data[data.columns[i]].fillna(data[data.columns[i]].mode())     # Rellenamos valores nulos con el valor más frecuente (moda)\n",
    "        categorical_column = data[data.columns[i]].astype(\"category\")                          # Convertimos la columna a tipo 'category' (categoría de pandas)\n",
    "        current_column_equivalence = dict(enumerate(categorical_column.cat.categories))        # Diccionario que asocia índices numéricos a cada categoría\n",
    "        column_equivalence[i] = dict((v,k) for k,v in current_column_equivalence.items())      # Invertimos el diccionario\n",
    "        data[data.columns[i]] = categorical_column.cat.codes                                   # Reemplazamos las categorías por sus códigos numéricos en la columna\n",
    "    # Si la columna no es de tipo 'object' (numérica u otro)\n",
    "    else:\n",
    "        data[data.columns[i]] = data[data.columns[i]].fillna(data[data.columns[i]].median())   # Rellenamos valores nulos con la mediana de la columna"
   ]
  },
  {
   "cell_type": "code",
   "execution_count": 9,
   "id": "fe0bc646",
   "metadata": {},
   "outputs": [
    {
     "data": {
      "text/plain": [
       "{1: {'France': 0, 'Germany': 1, 'Spain': 2}, 2: {'Female': 0, 'Male': 1}}"
      ]
     },
     "execution_count": 9,
     "metadata": {},
     "output_type": "execute_result"
    }
   ],
   "source": [
    "column_equivalence"
   ]
  },
  {
   "cell_type": "code",
   "execution_count": 10,
   "id": "fbb5d4f3",
   "metadata": {},
   "outputs": [
    {
     "data": {
      "image/png": "[encoded data removed]",
      "text/plain": [
       "<Figure size 1500x1000 with 11 Axes>"
      ]
     },
     "metadata": {},
     "output_type": "display_data"
    }
   ],
   "source": [
    "import matplotlib.pyplot as plt\n",
    "import seaborn as sns\n",
    "import numpy as np\n",
    "\n",
    "num_cols = data.select_dtypes(include=np.number)# Selecciona todas las columnas numéricas\n",
    "num_rows = 6        # Número de filas de la cuadrícula de gráficos\n",
    "num_cols_grid = 4   # Número de columnas de la cuadrícula de gráficos\n",
    "\n",
    "fig, axes = plt.subplots(num_rows, num_cols_grid, figsize=(15, 10))\n",
    "\n",
    "# Bucle para iterar sobre todas las columnas numéricas y crear un diagrama de caja (boxplot) para cada una\n",
    "for i, colname in enumerate(num_cols.columns):\n",
    "    # Calcula la posición (fila y columna) en la cuadrícula del gráfico actual\n",
    "    row = i // num_cols_grid  # Fila correspondiente en la cuadrícula\n",
    "    col = i % num_cols_grid   # Columna correspondiente en la cuadrícula\n",
    "    \n",
    "    # Crea el gráfico de boxplot para la columna 'colname' en la posición (row, col)\n",
    "    ax = sns.boxplot(x=data[colname], showmeans=True, ax=axes[row, col], \n",
    "                     boxprops={\"facecolor\": \"#8ac6de\", \"linewidth\": 1.2},  # Color y grosor de las cajas\n",
    "                     capprops={\"color\": \"black\", \"linewidth\": 1.5},        # Color y grosor de los bigotes\n",
    "                     flierprops={\"marker\": \"o\", \"markersize\": 3})          # Marcador y tamaño de los valores atípicos\n",
    "\n",
    "# Eliminando los ejes vacíos si hay menos columnas numéricas que las posiciones de la cuadrícula\n",
    "for j in range(i+1, num_rows*num_cols_grid):\n",
    "    row = j // num_cols_grid  # Calcula la fila del gráfico vacío\n",
    "    col = j % num_cols_grid   # Calcula la columna del gráfico vacío\n",
    "    fig.delaxes(axes[row, col])  # Elimina el gráfico vacío en la posición (row, col)\n",
    "\n",
    "fig.suptitle('Boxplot o diagrama de caja para cada una de las variables numéricas', fontsize=16)\n",
    "plt.tight_layout() # Ajusta la distribución de espacios vacios\n",
    "plt.show()\n"
   ]
  },
  {
   "cell_type": "markdown",
   "id": "d8a1140d",
   "metadata": {},
   "source": [
    "Visualmente podemos identificar algunos valores atipicos, que tienen sentido y probablemente no se deben a errores en la información. Por lo que no hace falta alterarlos."
   ]
  },
  {
   "cell_type": "code",
   "execution_count": 11,
   "id": "cb8dcb36",
   "metadata": {},
   "outputs": [
    {
     "data": {
      "text/html": [
       "<div>\n",
       "<style scoped>\n",
       "    .dataframe tbody tr th:only-of-type {\n",
       "        vertical-align: middle;\n",
       "    }\n",
       "\n",
       "    .dataframe tbody tr th {\n",
       "        vertical-align: top;\n",
       "    }\n",
       "\n",
       "    .dataframe thead th {\n",
       "        text-align: right;\n",
       "    }\n",
       "</style>\n",
       "<table border=\"1\" class=\"dataframe\">\n",
       "  <thead>\n",
       "    <tr style=\"text-align: right;\">\n",
       "      <th></th>\n",
       "      <th>CreditScore</th>\n",
       "      <th>Geography</th>\n",
       "      <th>Gender</th>\n",
       "      <th>Age</th>\n",
       "      <th>Tenure</th>\n",
       "      <th>Balance</th>\n",
       "      <th>NumOfProducts</th>\n",
       "      <th>HasCrCard</th>\n",
       "      <th>IsActiveMember</th>\n",
       "      <th>EstimatedSalary</th>\n",
       "      <th>Exited</th>\n",
       "    </tr>\n",
       "  </thead>\n",
       "  <tbody>\n",
       "    <tr>\n",
       "      <th>9355</th>\n",
       "      <td>0.778</td>\n",
       "      <td>1.0</td>\n",
       "      <td>0.0</td>\n",
       "      <td>0.297297</td>\n",
       "      <td>0.8</td>\n",
       "      <td>0.000000</td>\n",
       "      <td>0.000000</td>\n",
       "      <td>1.0</td>\n",
       "      <td>0.0</td>\n",
       "      <td>0.835174</td>\n",
       "      <td>0.0</td>\n",
       "    </tr>\n",
       "    <tr>\n",
       "      <th>4272</th>\n",
       "      <td>0.580</td>\n",
       "      <td>1.0</td>\n",
       "      <td>0.0</td>\n",
       "      <td>0.216216</td>\n",
       "      <td>0.3</td>\n",
       "      <td>0.310193</td>\n",
       "      <td>0.000000</td>\n",
       "      <td>1.0</td>\n",
       "      <td>1.0</td>\n",
       "      <td>0.842747</td>\n",
       "      <td>0.0</td>\n",
       "    </tr>\n",
       "    <tr>\n",
       "      <th>89</th>\n",
       "      <td>0.570</td>\n",
       "      <td>0.5</td>\n",
       "      <td>0.0</td>\n",
       "      <td>0.135135</td>\n",
       "      <td>0.3</td>\n",
       "      <td>0.325326</td>\n",
       "      <td>0.333333</td>\n",
       "      <td>1.0</td>\n",
       "      <td>1.0</td>\n",
       "      <td>0.783974</td>\n",
       "      <td>0.0</td>\n",
       "    </tr>\n",
       "    <tr>\n",
       "      <th>4424</th>\n",
       "      <td>0.502</td>\n",
       "      <td>0.5</td>\n",
       "      <td>0.0</td>\n",
       "      <td>0.391892</td>\n",
       "      <td>0.1</td>\n",
       "      <td>0.569163</td>\n",
       "      <td>0.000000</td>\n",
       "      <td>1.0</td>\n",
       "      <td>1.0</td>\n",
       "      <td>0.287735</td>\n",
       "      <td>0.0</td>\n",
       "    </tr>\n",
       "    <tr>\n",
       "      <th>4815</th>\n",
       "      <td>0.850</td>\n",
       "      <td>0.5</td>\n",
       "      <td>0.0</td>\n",
       "      <td>0.797297</td>\n",
       "      <td>0.6</td>\n",
       "      <td>0.538548</td>\n",
       "      <td>0.000000</td>\n",
       "      <td>1.0</td>\n",
       "      <td>0.0</td>\n",
       "      <td>0.189143</td>\n",
       "      <td>0.0</td>\n",
       "    </tr>\n",
       "    <tr>\n",
       "      <th>4500</th>\n",
       "      <td>0.842</td>\n",
       "      <td>0.5</td>\n",
       "      <td>1.0</td>\n",
       "      <td>0.189189</td>\n",
       "      <td>0.9</td>\n",
       "      <td>0.308839</td>\n",
       "      <td>0.000000</td>\n",
       "      <td>0.0</td>\n",
       "      <td>0.0</td>\n",
       "      <td>0.165673</td>\n",
       "      <td>0.0</td>\n",
       "    </tr>\n",
       "    <tr>\n",
       "      <th>5068</th>\n",
       "      <td>0.724</td>\n",
       "      <td>1.0</td>\n",
       "      <td>0.0</td>\n",
       "      <td>0.824324</td>\n",
       "      <td>0.5</td>\n",
       "      <td>0.430767</td>\n",
       "      <td>0.000000</td>\n",
       "      <td>1.0</td>\n",
       "      <td>1.0</td>\n",
       "      <td>0.870620</td>\n",
       "      <td>0.0</td>\n",
       "    </tr>\n",
       "    <tr>\n",
       "      <th>7282</th>\n",
       "      <td>0.462</td>\n",
       "      <td>1.0</td>\n",
       "      <td>0.0</td>\n",
       "      <td>0.351351</td>\n",
       "      <td>0.7</td>\n",
       "      <td>0.754562</td>\n",
       "      <td>0.333333</td>\n",
       "      <td>1.0</td>\n",
       "      <td>0.0</td>\n",
       "      <td>0.225095</td>\n",
       "      <td>1.0</td>\n",
       "    </tr>\n",
       "    <tr>\n",
       "      <th>185</th>\n",
       "      <td>0.328</td>\n",
       "      <td>0.0</td>\n",
       "      <td>1.0</td>\n",
       "      <td>0.189189</td>\n",
       "      <td>0.8</td>\n",
       "      <td>0.000000</td>\n",
       "      <td>0.333333</td>\n",
       "      <td>1.0</td>\n",
       "      <td>0.0</td>\n",
       "      <td>0.479274</td>\n",
       "      <td>0.0</td>\n",
       "    </tr>\n",
       "    <tr>\n",
       "      <th>7301</th>\n",
       "      <td>0.834</td>\n",
       "      <td>0.5</td>\n",
       "      <td>0.0</td>\n",
       "      <td>0.202703</td>\n",
       "      <td>0.1</td>\n",
       "      <td>0.576940</td>\n",
       "      <td>0.000000</td>\n",
       "      <td>1.0</td>\n",
       "      <td>1.0</td>\n",
       "      <td>0.662409</td>\n",
       "      <td>0.0</td>\n",
       "    </tr>\n",
       "  </tbody>\n",
       "</table>\n",
       "</div>"
      ],
      "text/plain": [
       "      CreditScore  Geography  Gender       Age  Tenure   Balance  \\\n",
       "9355        0.778        1.0     0.0  0.297297     0.8  0.000000   \n",
       "4272        0.580        1.0     0.0  0.216216     0.3  0.310193   \n",
       "89          0.570        0.5     0.0  0.135135     0.3  0.325326   \n",
       "4424        0.502        0.5     0.0  0.391892     0.1  0.569163   \n",
       "4815        0.850        0.5     0.0  0.797297     0.6  0.538548   \n",
       "4500        0.842        0.5     1.0  0.189189     0.9  0.308839   \n",
       "5068        0.724        1.0     0.0  0.824324     0.5  0.430767   \n",
       "7282        0.462        1.0     0.0  0.351351     0.7  0.754562   \n",
       "185         0.328        0.0     1.0  0.189189     0.8  0.000000   \n",
       "7301        0.834        0.5     0.0  0.202703     0.1  0.576940   \n",
       "\n",
       "      NumOfProducts  HasCrCard  IsActiveMember  EstimatedSalary  Exited  \n",
       "9355       0.000000        1.0             0.0         0.835174     0.0  \n",
       "4272       0.000000        1.0             1.0         0.842747     0.0  \n",
       "89         0.333333        1.0             1.0         0.783974     0.0  \n",
       "4424       0.000000        1.0             1.0         0.287735     0.0  \n",
       "4815       0.000000        1.0             0.0         0.189143     0.0  \n",
       "4500       0.000000        0.0             0.0         0.165673     0.0  \n",
       "5068       0.000000        1.0             1.0         0.870620     0.0  \n",
       "7282       0.333333        1.0             0.0         0.225095     1.0  \n",
       "185        0.333333        1.0             0.0         0.479274     0.0  \n",
       "7301       0.000000        1.0             1.0         0.662409     0.0  "
      ]
     },
     "execution_count": 11,
     "metadata": {},
     "output_type": "execute_result"
    }
   ],
   "source": [
    "#Normalizando los datos aplicando un scaler \n",
    "from sklearn.preprocessing import MinMaxScaler\n",
    "\n",
    "scaler = MinMaxScaler()\n",
    "data = pd.DataFrame(scaler.fit_transform(data), columns=data.columns)\n",
    "data.sample(10)"
   ]
  },
  {
   "cell_type": "markdown",
   "id": "106c84df",
   "metadata": {},
   "source": [
    "## Entrenamiento del modelo"
   ]
  },
  {
   "cell_type": "code",
   "execution_count": 12,
   "id": "21e4ba90-1206-4ce6-bdc8-6986e6b93ef5",
   "metadata": {},
   "outputs": [],
   "source": [
    "# Vamos a crear un modelo de regresion logistica\n",
    "from sklearn.model_selection import train_test_split\n",
    "from sklearn.svm import SVC\n",
    "seed=42"
   ]
  },
  {
   "cell_type": "code",
   "execution_count": 13,
   "id": "f45f3df3-bcbe-45f3-820c-82867e36d012",
   "metadata": {},
   "outputs": [],
   "source": [
    "# Generar los datos para poder separar la variable de respuesta de los datos que tenemos disponibles\n",
    "X = data.copy()\n",
    "y = X.pop(data.columns[-1])"
   ]
  },
  {
   "cell_type": "code",
   "execution_count": 14,
   "id": "8721e498",
   "metadata": {},
   "outputs": [],
   "source": [
    "from imblearn.over_sampling import SMOTE\n",
    "\n",
    "#Aplicamos balanceo de clases con SMOTE\n",
    "oversample = SMOTE()\n",
    "X, y = oversample.fit_resample(X, y)"
   ]
  },
  {
   "cell_type": "code",
   "execution_count": 15,
   "id": "8a6ee78f-7c8b-4810-a763-c8b20155ec28",
   "metadata": {},
   "outputs": [],
   "source": [
    "# Separar los datos en datos de entrenamiento y testing\n",
    "X_train, X_test, y_train, y_test = train_test_split( X, y, test_size=0.33, random_state=42)\n",
    "# Crear el modelo base\n",
    "svm = SVC(random_state=seed)"
   ]
  },
  {
   "cell_type": "code",
   "execution_count": 16,
   "id": "8cd168ca",
   "metadata": {},
   "outputs": [
    {
     "data": {
      "text/html": [
       "<style>#sk-container-id-1 {color: black;}#sk-container-id-1 pre{padding: 0;}#sk-container-id-1 div.sk-toggleable {background-color: white;}#sk-container-id-1 label.sk-toggleable__label {cursor: pointer;display: block;width: 100%;margin-bottom: 0;padding: 0.3em;box-sizing: border-box;text-align: center;}#sk-container-id-1 label.sk-toggleable__label-arrow:before {content: \"▸\";float: left;margin-right: 0.25em;color: #696969;}#sk-container-id-1 label.sk-toggleable__label-arrow:hover:before {color: black;}#sk-container-id-1 div.sk-estimator:hover label.sk-toggleable__label-arrow:before {color: black;}#sk-container-id-1 div.sk-toggleable__content {max-height: 0;max-width: 0;overflow: hidden;text-align: left;background-color: #f0f8ff;}#sk-container-id-1 div.sk-toggleable__content pre {margin: 0.2em;color: black;border-radius: 0.25em;background-color: #f0f8ff;}#sk-container-id-1 input.sk-toggleable__control:checked~div.sk-toggleable__content {max-height: 200px;max-width: 100%;overflow: auto;}#sk-container-id-1 input.sk-toggleable__control:checked~label.sk-toggleable__label-arrow:before {content: \"▾\";}#sk-container-id-1 div.sk-estimator input.sk-toggleable__control:checked~label.sk-toggleable__label {background-color: #d4ebff;}#sk-container-id-1 div.sk-label input.sk-toggleable__control:checked~label.sk-toggleable__label {background-color: #d4ebff;}#sk-container-id-1 input.sk-hidden--visually {border: 0;clip: rect(1px 1px 1px 1px);clip: rect(1px, 1px, 1px, 1px);height: 1px;margin: -1px;overflow: hidden;padding: 0;position: absolute;width: 1px;}#sk-container-id-1 div.sk-estimator {font-family: monospace;background-color: #f0f8ff;border: 1px dotted black;border-radius: 0.25em;box-sizing: border-box;margin-bottom: 0.5em;}#sk-container-id-1 div.sk-estimator:hover {background-color: #d4ebff;}#sk-container-id-1 div.sk-parallel-item::after {content: \"\";width: 100%;border-bottom: 1px solid gray;flex-grow: 1;}#sk-container-id-1 div.sk-label:hover label.sk-toggleable__label {background-color: #d4ebff;}#sk-container-id-1 div.sk-serial::before {content: \"\";position: absolute;border-left: 1px solid gray;box-sizing: border-box;top: 0;bottom: 0;left: 50%;z-index: 0;}#sk-container-id-1 div.sk-serial {display: flex;flex-direction: column;align-items: center;background-color: white;padding-right: 0.2em;padding-left: 0.2em;position: relative;}#sk-container-id-1 div.sk-item {position: relative;z-index: 1;}#sk-container-id-1 div.sk-parallel {display: flex;align-items: stretch;justify-content: center;background-color: white;position: relative;}#sk-container-id-1 div.sk-item::before, #sk-container-id-1 div.sk-parallel-item::before {content: \"\";position: absolute;border-left: 1px solid gray;box-sizing: border-box;top: 0;bottom: 0;left: 50%;z-index: -1;}#sk-container-id-1 div.sk-parallel-item {display: flex;flex-direction: column;z-index: 1;position: relative;background-color: white;}#sk-container-id-1 div.sk-parallel-item:first-child::after {align-self: flex-end;width: 50%;}#sk-container-id-1 div.sk-parallel-item:last-child::after {align-self: flex-start;width: 50%;}#sk-container-id-1 div.sk-parallel-item:only-child::after {width: 0;}#sk-container-id-1 div.sk-dashed-wrapped {border: 1px dashed gray;margin: 0 0.4em 0.5em 0.4em;box-sizing: border-box;padding-bottom: 0.4em;background-color: white;}#sk-container-id-1 div.sk-label label {font-family: monospace;font-weight: bold;display: inline-block;line-height: 1.2em;}#sk-container-id-1 div.sk-label-container {text-align: center;}#sk-container-id-1 div.sk-container {/* jupyter's `normalize.less` sets `[hidden] { display: none; }` but bootstrap.min.css set `[hidden] { display: none !important; }` so we also need the `!important` here to be able to override the default hidden behavior on the sphinx rendered scikit-learn.org. See: https://github.com/scikit-learn/scikit-learn/issues/21755 */display: inline-block !important;position: relative;}#sk-container-id-1 div.sk-text-repr-fallback {display: none;}</style><div id=\"sk-container-id-1\" class=\"sk-top-container\"><div class=\"sk-text-repr-fallback\"><pre>RandomizedSearchCV(estimator=SVC(random_state=42), n_iter=50, n_jobs=-1,\n",
       "                   param_distributions=[{&#x27;C&#x27;: [1.0, 2.0, 5.0, 10.0, 25.0, 100.0,\n",
       "                                               500.0, 1000.0],\n",
       "                                         &#x27;kernel&#x27;: [&#x27;linear&#x27;],\n",
       "                                         &#x27;tol&#x27;: [0.01, 0.001, 0.0001, 1e-05]},\n",
       "                                        {&#x27;C&#x27;: [1.0, 2.0, 5.0, 10.0, 25.0, 100.0,\n",
       "                                               500.0, 1000.0],\n",
       "                                         &#x27;gamma&#x27;: [0.1, 0.2, 0.3, 0.4, 0.5, 0.6,\n",
       "                                                   0.7, 0.8, 0.9],\n",
       "                                         &#x27;kernel&#x27;: [&#x27;rbf&#x27;],\n",
       "                                         &#x27;tol&#x27;: [0.01, 0.001, 0.0001, 1e-05]},\n",
       "                                        {&#x27;C&#x27;: [1.0, 2.0, 5.0, 10.0, 25.0, 100.0,\n",
       "                                               500.0, 1000.0],\n",
       "                                         &#x27;degree&#x27;: [2, 3, 4, 5, 6],\n",
       "                                         &#x27;gamma&#x27;: [0.01, 0.02, 0.03, 0.04,\n",
       "                                                   0.05],\n",
       "                                         &#x27;kernel&#x27;: [&#x27;poly&#x27;],\n",
       "                                         &#x27;tol&#x27;: [0.01, 0.001, 0.0001, 1e-05]}],\n",
       "                   random_state=42)</pre><b>In a Jupyter environment, please rerun this cell to show the HTML representation or trust the notebook. <br />On GitHub, the HTML representation is unable to render, please try loading this page with nbviewer.org.</b></div><div class=\"sk-container\" hidden><div class=\"sk-item sk-dashed-wrapped\"><div class=\"sk-label-container\"><div class=\"sk-label sk-toggleable\"><input class=\"sk-toggleable__control sk-hidden--visually\" id=\"sk-estimator-id-1\" type=\"checkbox\" ><label for=\"sk-estimator-id-1\" class=\"sk-toggleable__label sk-toggleable__label-arrow\">RandomizedSearchCV</label><div class=\"sk-toggleable__content\"><pre>RandomizedSearchCV(estimator=SVC(random_state=42), n_iter=50, n_jobs=-1,\n",
       "                   param_distributions=[{&#x27;C&#x27;: [1.0, 2.0, 5.0, 10.0, 25.0, 100.0,\n",
       "                                               500.0, 1000.0],\n",
       "                                         &#x27;kernel&#x27;: [&#x27;linear&#x27;],\n",
       "                                         &#x27;tol&#x27;: [0.01, 0.001, 0.0001, 1e-05]},\n",
       "                                        {&#x27;C&#x27;: [1.0, 2.0, 5.0, 10.0, 25.0, 100.0,\n",
       "                                               500.0, 1000.0],\n",
       "                                         &#x27;gamma&#x27;: [0.1, 0.2, 0.3, 0.4, 0.5, 0.6,\n",
       "                                                   0.7, 0.8, 0.9],\n",
       "                                         &#x27;kernel&#x27;: [&#x27;rbf&#x27;],\n",
       "                                         &#x27;tol&#x27;: [0.01, 0.001, 0.0001, 1e-05]},\n",
       "                                        {&#x27;C&#x27;: [1.0, 2.0, 5.0, 10.0, 25.0, 100.0,\n",
       "                                               500.0, 1000.0],\n",
       "                                         &#x27;degree&#x27;: [2, 3, 4, 5, 6],\n",
       "                                         &#x27;gamma&#x27;: [0.01, 0.02, 0.03, 0.04,\n",
       "                                                   0.05],\n",
       "                                         &#x27;kernel&#x27;: [&#x27;poly&#x27;],\n",
       "                                         &#x27;tol&#x27;: [0.01, 0.001, 0.0001, 1e-05]}],\n",
       "                   random_state=42)</pre></div></div></div><div class=\"sk-parallel\"><div class=\"sk-parallel-item\"><div class=\"sk-item\"><div class=\"sk-label-container\"><div class=\"sk-label sk-toggleable\"><input class=\"sk-toggleable__control sk-hidden--visually\" id=\"sk-estimator-id-2\" type=\"checkbox\" ><label for=\"sk-estimator-id-2\" class=\"sk-toggleable__label sk-toggleable__label-arrow\">estimator: SVC</label><div class=\"sk-toggleable__content\"><pre>SVC(random_state=42)</pre></div></div></div><div class=\"sk-serial\"><div class=\"sk-item\"><div class=\"sk-estimator sk-toggleable\"><input class=\"sk-toggleable__control sk-hidden--visually\" id=\"sk-estimator-id-3\" type=\"checkbox\" ><label for=\"sk-estimator-id-3\" class=\"sk-toggleable__label sk-toggleable__label-arrow\">SVC</label><div class=\"sk-toggleable__content\"><pre>SVC(random_state=42)</pre></div></div></div></div></div></div></div></div></div></div>"
      ],
      "text/plain": [
       "RandomizedSearchCV(estimator=SVC(random_state=42), n_iter=50, n_jobs=-1,\n",
       "                   param_distributions=[{'C': [1.0, 2.0, 5.0, 10.0, 25.0, 100.0,\n",
       "                                               500.0, 1000.0],\n",
       "                                         'kernel': ['linear'],\n",
       "                                         'tol': [0.01, 0.001, 0.0001, 1e-05]},\n",
       "                                        {'C': [1.0, 2.0, 5.0, 10.0, 25.0, 100.0,\n",
       "                                               500.0, 1000.0],\n",
       "                                         'gamma': [0.1, 0.2, 0.3, 0.4, 0.5, 0.6,\n",
       "                                                   0.7, 0.8, 0.9],\n",
       "                                         'kernel': ['rbf'],\n",
       "                                         'tol': [0.01, 0.001, 0.0001, 1e-05]},\n",
       "                                        {'C': [1.0, 2.0, 5.0, 10.0, 25.0, 100.0,\n",
       "                                               500.0, 1000.0],\n",
       "                                         'degree': [2, 3, 4, 5, 6],\n",
       "                                         'gamma': [0.01, 0.02, 0.03, 0.04,\n",
       "                                                   0.05],\n",
       "                                         'kernel': ['poly'],\n",
       "                                         'tol': [0.01, 0.001, 0.0001, 1e-05]}],\n",
       "                   random_state=42)"
      ]
     },
     "execution_count": 16,
     "metadata": {},
     "output_type": "execute_result"
    }
   ],
   "source": [
    "#Aproximandonos a los mejores hiperparametros con una busqueda aleatoria\n",
    "from sklearn.model_selection import RandomizedSearchCV\n",
    "\n",
    "# Definir el espacio de búsqueda de hiperparámetros\n",
    "param_distribution = [ {'C':[1.0,2.0,5.0,10.0,25.0,100.0,500.0,1000.0], 'kernel':['linear'],'tol':[1e-2,1e-3,1e-4,1e-5]},\n",
    "               {'C':[1.0,2.0,5.0,10.0,25.0,100.0,500.0,1000.0], 'kernel':['rbf'], 'gamma':[0.1, 0.2, 0.3, 0.4, 0.5, 0.6, 0.7, 0.8, 0.9],'tol':[1e-2,1e-3,1e-4,1e-5]},\n",
    "               {'C':[1.0,2.0,5.0,10.0,25.0,100.0,500.0,1000.0], 'kernel':['poly'], 'degree': [2,3,4,5,6] ,'gamma':[0.01,0.02,0.03,0.04,0.05],'tol':[1e-2,1e-3,1e-4,1e-5]}]\n",
    "\n",
    "#Usamos RandomizedSearchCV teniendo en cuenta que este módelo no explora todas las combinaciones sino solo las que se indiquen en n_iter de forma aleatoria\n",
    "random_search = RandomizedSearchCV(estimator=svm,\n",
    "                    param_distributions=param_distribution,\n",
    "                    n_iter=50,\n",
    "                    random_state=seed,\n",
    "                    n_jobs=-1)\n",
    "\n",
    "# Ejecutar la búsqueda aleatoria\n",
    "random_search.fit(X_train, y_train)"
   ]
  },
  {
   "cell_type": "code",
   "execution_count": 17,
   "id": "64b64908",
   "metadata": {},
   "outputs": [
    {
     "name": "stdout",
     "output_type": "stream",
     "text": [
      "Las 5 mejores combinaciones de hiperparámetros:\n",
      "Combinación 8: {'tol': 0.001, 'kernel': 'rbf', 'gamma': 0.5, 'C': 500.0}, Puntuación: 0.822\n",
      "Combinación 1: {'tol': 1e-05, 'kernel': 'rbf', 'gamma': 0.8, 'C': 100.0}, Puntuación: 0.822\n",
      "Combinación 10: {'tol': 0.01, 'kernel': 'rbf', 'gamma': 0.4, 'C': 1000.0}, Puntuación: 0.822\n",
      "Combinación 9: {'tol': 0.01, 'kernel': 'rbf', 'gamma': 0.7, 'C': 5.0}, Puntuación: 0.796\n",
      "Combinación 2: {'tol': 0.001, 'kernel': 'rbf', 'gamma': 0.9, 'C': 2.0}, Puntuación: 0.794\n"
     ]
    }
   ],
   "source": [
    "results = random_search.cv_results_\n",
    "\n",
    "# Crear un DataFrame a partir de los resultados\n",
    "results_df = pd.DataFrame(results)\n",
    "\n",
    "# Filtrar y ordenar los mejores resultados\n",
    "top_results = results_df[['params', 'mean_test_score']].sort_values(by='mean_test_score', ascending=False)\n",
    "\n",
    "# Mostrar las 5 mejores combinaciones\n",
    "print(\"Las 5 mejores combinaciones de hiperparámetros:\")\n",
    "for index, row in top_results.head(5).iterrows():\n",
    "    print(f\"Combinación {index + 1}: {row['params']}, Puntuación: {row['mean_test_score']:.3f}\")"
   ]
  },
  {
   "cell_type": "code",
   "execution_count": 18,
   "id": "d0ee8400",
   "metadata": {},
   "outputs": [
    {
     "name": "stdout",
     "output_type": "stream",
     "text": [
      "Fitting 3 folds for each of 63 candidates, totalling 189 fits\n"
     ]
    },
    {
     "name": "stdout",
     "output_type": "stream",
     "text": [
      "Mejores hiperparámetros: {'C': 1000.0, 'gamma': 0.9, 'kernel': 'rbf', 'tol': 0.0001}\n",
      "Mejor puntuación: 0.837\n"
     ]
    }
   ],
   "source": [
    "from sklearn.model_selection import GridSearchCV\n",
    "\n",
    "# Definir el espacio de búsqueda de hiperparámetros alrededor de los mejores encontrados\n",
    "param_grid = {'C':np.logspace(1, 3, 3),\n",
    "              'kernel':['rbf'], \n",
    "              'gamma':np.linspace(0.6,0.9,7),\n",
    "              'tol':np.logspace(-4, -2, 3)}\n",
    "\n",
    "# Configurar la búsqueda en cuadrícula\n",
    "grid_search = GridSearchCV(estimator=svm, param_grid=param_grid, cv=3, verbose=1, n_jobs=-1)\n",
    "\n",
    "# Ejecutar la búsqueda en cuadrícula\n",
    "grid_search.fit(X_train, y_train)\n",
    "\n",
    "# Mostrar los mejores hiperparámetros encontrados\n",
    "print(f\"Mejores hiperparámetros: {grid_search.best_params_}\")\n",
    "print(f\"Mejor puntuación: {grid_search.best_score_:.3f}\")"
   ]
  },
  {
   "cell_type": "code",
   "execution_count": 19,
   "id": "409f0391-4500-41fd-85a9-e501ecdd9329",
   "metadata": {},
   "outputs": [],
   "source": [
    "# Entrenar el modelo con los mejores hiperparametros\n",
    "svm =  SVC(random_state=42, **grid_search.best_params_).fit(X_train, y_train)"
   ]
  },
  {
   "cell_type": "markdown",
   "id": "9dc2f9e7",
   "metadata": {},
   "source": [
    "## Evaluación del modelo"
   ]
  },
  {
   "cell_type": "code",
   "execution_count": 20,
   "id": "753ab797-0b07-4e27-a497-9518034451a9",
   "metadata": {},
   "outputs": [
    {
     "data": {
      "image/png": "[encoded data removed]",
      "text/plain": [
       "<Figure size 900x900 with 2 Axes>"
      ]
     },
     "metadata": {},
     "output_type": "display_data"
    }
   ],
   "source": [
    "# Medir los resultados obtenidos usando una matriz de confusión\n",
    "import matplotlib.pyplot as plt\n",
    "import seaborn as sns\n",
    "from sklearn.metrics import confusion_matrix\n",
    "cm = confusion_matrix(y_test, svm.predict(X_test))\n",
    "\n",
    "#Visualizar la matriz de confusión\n",
    "plt.figure(figsize=(9,9))\n",
    "plt.title('Confusion matrix')\n",
    "sns.heatmap(cm, annot=True, fmt='g', linewidths=.5, square=True, cmap='coolwarm')\n",
    "plt.ylabel('Actual label')\n",
    "plt.xlabel('Predicted label')\n",
    "plt.show()"
   ]
  },
  {
   "cell_type": "code",
   "execution_count": 22,
   "id": "1e21c8b3",
   "metadata": {},
   "outputs": [
    {
     "name": "stdout",
     "output_type": "stream",
     "text": [
      "Accuracy model: 0.853\n",
      "Exited Churn='NO': 0.814\n",
      "Exited Churn='YES': 0.892\n",
      "F1 Score: 0.857\n"
     ]
    }
   ],
   "source": [
    "# Metricas de éxito propuestas para evaluar el modelo, en todas se busca un valor cercano a 1\n",
    "from sklearn.metrics import accuracy_score, recall_score, f1_score\n",
    "\n",
    "# Predecir resultados con los datos de prueba\n",
    "prediction_test = svm.predict(X_test)\n",
    "\n",
    "# Exactitud: proporción de predicciones correctas.\n",
    "print(f\"Accuracy model: {accuracy_score(y_test, prediction_test):.3f}\")\n",
    "\n",
    "# Sensibilidad: capacidad del modelo de identificar todas las muestras positivas para un label.\n",
    "print(f\"Exited Churn='NO': {recall_score(y_test, prediction_test, pos_label=0):.3f}\")\n",
    "print(f\"Exited Churn='YES': {recall_score(y_test, prediction_test, pos_label=1):.3f}\")\n",
    "\n",
    "# F1 Score: media armónica entre precisión y sensibilidad, nos da una mejor idea de que tan bien se comporta el modelo de forma global.\n",
    "print(f\"F1 Score: {f1_score(y_test, prediction_test):.3f}\")\n",
    "# En ocasiones, esta última metrica se usa en competiciones (Kaggle, DataDriven) para comparar modelos.\n"
   ]
  },
  {
   "cell_type": "markdown",
   "id": "8f3fabc9",
   "metadata": {},
   "source": [
    "## Exportación con pickle"
   ]
  },
  {
   "cell_type": "code",
   "execution_count": 23,
   "id": "20f25624-4ba7-4c0d-a79a-590d1884b7d0",
   "metadata": {},
   "outputs": [],
   "source": [
    "# Generar el binario del modelo para reutilizarlo, equivalencia de variables categoricas y caracteristicas del modelo\n",
    "import pickle\n",
    "#Tener en cuenta esta nota de la documentación de Python\n",
    "#\"Warning: The pickle module is not secure. Only unpickle data you trust.\"\n",
    "\n",
    "pickle.dump(svm, open(\"models/model.pk\", \"wb\"))\n",
    "pickle.dump(column_equivalence, open(\"models/column_equivalence.pk\", \"wb\"))\n",
    "pickle.dump(features, open(\"models/features.pk\", \"wb\"))"
   ]
  }
 ],
 "metadata": {
  "kernelspec": {
   "display_name": "Python 3",
   "language": "python",
   "name": "python3"
  },
  "language_info": {
   "codemirror_mode": {
    "name": "ipython",
    "version": 3
   },
   "file_extension": ".py",
   "mimetype": "text/x-python",
   "name": "python",
   "nbconvert_exporter": "python",
   "pygments_lexer": "ipython3",
   "version": "3.12.1"
  }
 },
 "nbformat": 4,
 "nbformat_minor": 5
}

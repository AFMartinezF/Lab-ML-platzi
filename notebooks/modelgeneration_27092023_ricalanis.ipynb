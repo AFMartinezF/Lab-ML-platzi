{
 "cells": [
  {
   "cell_type": "markdown",
   "id": "3dbce2b2",
   "metadata": {},
   "source": [
    "## Presprocesamiento de los datos"
   ]
  },
  {
   "cell_type": "code",
   "execution_count": 1,
   "id": "9de64c0d-889e-483d-9921-25cbe60cedf4",
   "metadata": {},
   "outputs": [],
   "source": [
    "import os\n",
    "import pandas as pd"
   ]
  },
  {
   "cell_type": "code",
   "execution_count": 2,
   "id": "ddef4e47-253e-427f-b3c5-0f3f6cdacbac",
   "metadata": {},
   "outputs": [],
   "source": [
    "# Cambiar directorio\n",
    "os.chdir(\"..\")"
   ]
  },
  {
   "cell_type": "code",
   "execution_count": 3,
   "id": "45a2377a-c148-44d4-b936-800d57362bcb",
   "metadata": {},
   "outputs": [],
   "source": [
    "# Cargar los datos que tenemos disponibles\n",
    "data = pd.read_csv(\"data/raw/churn.csv\")\n"
   ]
  },
  {
   "cell_type": "code",
   "execution_count": 4,
   "id": "e6e35832-17f4-43b3-adcc-5de303725f8d",
   "metadata": {},
   "outputs": [
    {
     "data": {
      "text/html": [
       "<div>\n",
       "<style scoped>\n",
       "    .dataframe tbody tr th:only-of-type {\n",
       "        vertical-align: middle;\n",
       "    }\n",
       "\n",
       "    .dataframe tbody tr th {\n",
       "        vertical-align: top;\n",
       "    }\n",
       "\n",
       "    .dataframe thead th {\n",
       "        text-align: right;\n",
       "    }\n",
       "</style>\n",
       "<table border=\"1\" class=\"dataframe\">\n",
       "  <thead>\n",
       "    <tr style=\"text-align: right;\">\n",
       "      <th></th>\n",
       "      <th>RowNumber</th>\n",
       "      <th>CustomerId</th>\n",
       "      <th>Surname</th>\n",
       "      <th>CreditScore</th>\n",
       "      <th>Geography</th>\n",
       "      <th>Gender</th>\n",
       "      <th>Age</th>\n",
       "      <th>Tenure</th>\n",
       "      <th>Balance</th>\n",
       "      <th>NumOfProducts</th>\n",
       "      <th>HasCrCard</th>\n",
       "      <th>IsActiveMember</th>\n",
       "      <th>EstimatedSalary</th>\n",
       "      <th>Exited</th>\n",
       "    </tr>\n",
       "  </thead>\n",
       "  <tbody>\n",
       "    <tr>\n",
       "      <th>0</th>\n",
       "      <td>1</td>\n",
       "      <td>15634602</td>\n",
       "      <td>Hargrave</td>\n",
       "      <td>619</td>\n",
       "      <td>France</td>\n",
       "      <td>Female</td>\n",
       "      <td>42</td>\n",
       "      <td>2</td>\n",
       "      <td>0.00</td>\n",
       "      <td>1</td>\n",
       "      <td>1</td>\n",
       "      <td>1</td>\n",
       "      <td>101348.88</td>\n",
       "      <td>1</td>\n",
       "    </tr>\n",
       "    <tr>\n",
       "      <th>1</th>\n",
       "      <td>2</td>\n",
       "      <td>15647311</td>\n",
       "      <td>Hill</td>\n",
       "      <td>608</td>\n",
       "      <td>Spain</td>\n",
       "      <td>Female</td>\n",
       "      <td>41</td>\n",
       "      <td>1</td>\n",
       "      <td>83807.86</td>\n",
       "      <td>1</td>\n",
       "      <td>0</td>\n",
       "      <td>1</td>\n",
       "      <td>112542.58</td>\n",
       "      <td>0</td>\n",
       "    </tr>\n",
       "    <tr>\n",
       "      <th>2</th>\n",
       "      <td>3</td>\n",
       "      <td>15619304</td>\n",
       "      <td>Onio</td>\n",
       "      <td>502</td>\n",
       "      <td>France</td>\n",
       "      <td>Female</td>\n",
       "      <td>42</td>\n",
       "      <td>8</td>\n",
       "      <td>159660.80</td>\n",
       "      <td>3</td>\n",
       "      <td>1</td>\n",
       "      <td>0</td>\n",
       "      <td>113931.57</td>\n",
       "      <td>1</td>\n",
       "    </tr>\n",
       "    <tr>\n",
       "      <th>3</th>\n",
       "      <td>4</td>\n",
       "      <td>15701354</td>\n",
       "      <td>Boni</td>\n",
       "      <td>699</td>\n",
       "      <td>France</td>\n",
       "      <td>Female</td>\n",
       "      <td>39</td>\n",
       "      <td>1</td>\n",
       "      <td>0.00</td>\n",
       "      <td>2</td>\n",
       "      <td>0</td>\n",
       "      <td>0</td>\n",
       "      <td>93826.63</td>\n",
       "      <td>0</td>\n",
       "    </tr>\n",
       "    <tr>\n",
       "      <th>4</th>\n",
       "      <td>5</td>\n",
       "      <td>15737888</td>\n",
       "      <td>Mitchell</td>\n",
       "      <td>850</td>\n",
       "      <td>Spain</td>\n",
       "      <td>Female</td>\n",
       "      <td>43</td>\n",
       "      <td>2</td>\n",
       "      <td>125510.82</td>\n",
       "      <td>1</td>\n",
       "      <td>1</td>\n",
       "      <td>1</td>\n",
       "      <td>79084.10</td>\n",
       "      <td>0</td>\n",
       "    </tr>\n",
       "  </tbody>\n",
       "</table>\n",
       "</div>"
      ],
      "text/plain": [
       "   RowNumber  CustomerId   Surname  CreditScore Geography  Gender  Age  \\\n",
       "0          1    15634602  Hargrave          619    France  Female   42   \n",
       "1          2    15647311      Hill          608     Spain  Female   41   \n",
       "2          3    15619304      Onio          502    France  Female   42   \n",
       "3          4    15701354      Boni          699    France  Female   39   \n",
       "4          5    15737888  Mitchell          850     Spain  Female   43   \n",
       "\n",
       "   Tenure    Balance  NumOfProducts  HasCrCard  IsActiveMember  \\\n",
       "0       2       0.00              1          1               1   \n",
       "1       1   83807.86              1          0               1   \n",
       "2       8  159660.80              3          1               0   \n",
       "3       1       0.00              2          0               0   \n",
       "4       2  125510.82              1          1               1   \n",
       "\n",
       "   EstimatedSalary  Exited  \n",
       "0        101348.88       1  \n",
       "1        112542.58       0  \n",
       "2        113931.57       1  \n",
       "3         93826.63       0  \n",
       "4         79084.10       0  "
      ]
     },
     "execution_count": 4,
     "metadata": {},
     "output_type": "execute_result"
    }
   ],
   "source": [
    "data.head(5)"
   ]
  },
  {
   "cell_type": "code",
   "execution_count": 5,
   "id": "3da27622-b70d-45bb-9efb-bd94bd4fb0a7",
   "metadata": {},
   "outputs": [],
   "source": [
    "# Nos deshacemos de las columnas que no contribuyen en mucho\n",
    "data = data.drop(data.columns[0:3], axis=1)"
   ]
  },
  {
   "cell_type": "code",
   "execution_count": 6,
   "id": "b8f22789",
   "metadata": {},
   "outputs": [
    {
     "data": {
      "text/plain": [
       "CreditScore        0\n",
       "Geography          0\n",
       "Gender             0\n",
       "Age                0\n",
       "Tenure             0\n",
       "Balance            0\n",
       "NumOfProducts      0\n",
       "HasCrCard          0\n",
       "IsActiveMember     0\n",
       "EstimatedSalary    0\n",
       "Exited             0\n",
       "dtype: int64"
      ]
     },
     "execution_count": 6,
     "metadata": {},
     "output_type": "execute_result"
    }
   ],
   "source": [
    "data.isna().sum()"
   ]
  },
  {
   "cell_type": "code",
   "execution_count": 7,
   "id": "e757c386",
   "metadata": {},
   "outputs": [
    {
     "data": {
      "text/plain": [
       "CreditScore          int64\n",
       "Geography           object\n",
       "Gender              object\n",
       "Age                  int64\n",
       "Tenure               int64\n",
       "Balance            float64\n",
       "NumOfProducts        int64\n",
       "HasCrCard            int64\n",
       "IsActiveMember       int64\n",
       "EstimatedSalary    float64\n",
       "Exited               int64\n",
       "dtype: object"
      ]
     },
     "execution_count": 7,
     "metadata": {},
     "output_type": "execute_result"
    }
   ],
   "source": [
    "data.dtypes"
   ]
  },
  {
   "cell_type": "code",
   "execution_count": 11,
   "id": "c6519a08-642b-4ce3-8800-bfd80be89989",
   "metadata": {},
   "outputs": [],
   "source": [
    "# Convertimos los datos en formato categorico, para más info: shorturl.at/y0269\n",
    "column_equivalence = {}\n",
    "features = list(data.columns)\n",
    "# Iteramos sobre los tipos de datos de cada columna, convirtiéndolos a string para poder compararlos\n",
    "for i, column in enumerate(list([str(d) for d in data.dtypes])):\n",
    "    # Si la columna es de tipo 'object' (categoría o texto)\n",
    "    if column == \"object\":\n",
    "        data[data.columns[i]] = data[data.columns[i]].fillna(data[data.columns[i]].mode())     # Rellenamos valores nulos con el valor más frecuente (moda)\n",
    "        categorical_column = data[data.columns[i]].astype(\"category\")                          # Convertimos la columna a tipo 'category' (categoría de pandas)\n",
    "        current_column_equivalence = dict(enumerate(categorical_column.cat.categories))        # Diccionario que asocia índices numéricos a cada categoría\n",
    "        column_equivalence[i] = dict((v,k) for k,v in current_column_equivalence.items())      # Invertimos el diccionario\n",
    "        data[data.columns[i]] = categorical_column.cat.codes                                   # Reemplazamos las categorías por sus códigos numéricos en la columna\n",
    "    # Si la columna no es de tipo 'object' (numérica u otro)\n",
    "    else:\n",
    "        data[data.columns[i]] = data[data.columns[i]].fillna(data[data.columns[i]].median())   # Rellenamos valores nulos con la mediana de la columna"
   ]
  },
  {
   "cell_type": "code",
   "execution_count": 12,
   "id": "fe0bc646",
   "metadata": {},
   "outputs": [
    {
     "data": {
      "text/plain": [
       "{1: {'France': 0, 'Germany': 1, 'Spain': 2}, 2: {'Female': 0, 'Male': 1}}"
      ]
     },
     "execution_count": 12,
     "metadata": {},
     "output_type": "execute_result"
    }
   ],
   "source": [
    "column_equivalence"
   ]
  },
  {
   "cell_type": "code",
   "execution_count": 13,
   "id": "fbb5d4f3",
   "metadata": {},
   "outputs": [
    {
     "data": {
      "image/png": "[encoded data removed]",
      "text/plain": [
       "<Figure size 1500x1000 with 11 Axes>"
      ]
     },
     "metadata": {},
     "output_type": "display_data"
    }
   ],
   "source": [
    "import matplotlib.pyplot as plt\n",
    "import seaborn as sns\n",
    "import numpy as np\n",
    "\n",
    "num_cols = data.select_dtypes(include=np.number)# Selecciona todas las columnas numéricas\n",
    "num_rows = 6        # Número de filas de la cuadrícula de gráficos\n",
    "num_cols_grid = 4   # Número de columnas de la cuadrícula de gráficos\n",
    "\n",
    "fig, axes = plt.subplots(num_rows, num_cols_grid, figsize=(15, 10))\n",
    "\n",
    "# Bucle para iterar sobre todas las columnas numéricas y crear un diagrama de caja (boxplot) para cada una\n",
    "for i, colname in enumerate(num_cols.columns):\n",
    "    # Calcula la posición (fila y columna) en la cuadrícula del gráfico actual\n",
    "    row = i // num_cols_grid  # Fila correspondiente en la cuadrícula\n",
    "    col = i % num_cols_grid   # Columna correspondiente en la cuadrícula\n",
    "    \n",
    "    # Crea el gráfico de boxplot para la columna 'colname' en la posición (row, col)\n",
    "    ax = sns.boxplot(x=data[colname], showmeans=True, ax=axes[row, col], \n",
    "                     boxprops={\"facecolor\": \"#8ac6de\", \"linewidth\": 1.2},  # Color y grosor de las cajas\n",
    "                     capprops={\"color\": \"black\", \"linewidth\": 1.5},        # Color y grosor de los bigotes\n",
    "                     flierprops={\"marker\": \"o\", \"markersize\": 3})          # Marcador y tamaño de los valores atípicos\n",
    "\n",
    "# Eliminando los ejes vacíos si hay menos columnas numéricas que las posiciones de la cuadrícula\n",
    "for j in range(i+1, num_rows*num_cols_grid):\n",
    "    row = j // num_cols_grid  # Calcula la fila del gráfico vacío\n",
    "    col = j % num_cols_grid   # Calcula la columna del gráfico vacío\n",
    "    fig.delaxes(axes[row, col])  # Elimina el gráfico vacío en la posición (row, col)\n",
    "\n",
    "fig.suptitle('Boxplot o diagrama de caja para cada una de las variables numéricas', fontsize=16)\n",
    "plt.tight_layout() # Ajusta la distribución de espacios vacios\n",
    "plt.show()\n"
   ]
  },
  {
   "cell_type": "markdown",
   "id": "d8a1140d",
   "metadata": {},
   "source": [
    "Visualmente podemos identificar algunos valores atipicos, que tienen sentido y probablemente no se deben a errores en la información. Por lo que no hace falta alterarlos."
   ]
  },
  {
   "cell_type": "code",
   "execution_count": 14,
   "id": "cb8dcb36",
   "metadata": {},
   "outputs": [
    {
     "data": {
      "text/html": [
       "<div>\n",
       "<style scoped>\n",
       "    .dataframe tbody tr th:only-of-type {\n",
       "        vertical-align: middle;\n",
       "    }\n",
       "\n",
       "    .dataframe tbody tr th {\n",
       "        vertical-align: top;\n",
       "    }\n",
       "\n",
       "    .dataframe thead th {\n",
       "        text-align: right;\n",
       "    }\n",
       "</style>\n",
       "<table border=\"1\" class=\"dataframe\">\n",
       "  <thead>\n",
       "    <tr style=\"text-align: right;\">\n",
       "      <th></th>\n",
       "      <th>CreditScore</th>\n",
       "      <th>Geography</th>\n",
       "      <th>Gender</th>\n",
       "      <th>Age</th>\n",
       "      <th>Tenure</th>\n",
       "      <th>Balance</th>\n",
       "      <th>NumOfProducts</th>\n",
       "      <th>HasCrCard</th>\n",
       "      <th>IsActiveMember</th>\n",
       "      <th>EstimatedSalary</th>\n",
       "      <th>Exited</th>\n",
       "    </tr>\n",
       "  </thead>\n",
       "  <tbody>\n",
       "    <tr>\n",
       "      <th>7482</th>\n",
       "      <td>0.736</td>\n",
       "      <td>0.5</td>\n",
       "      <td>1.0</td>\n",
       "      <td>0.337838</td>\n",
       "      <td>0.5</td>\n",
       "      <td>0.528564</td>\n",
       "      <td>0.333333</td>\n",
       "      <td>1.0</td>\n",
       "      <td>0.0</td>\n",
       "      <td>0.164953</td>\n",
       "      <td>0.0</td>\n",
       "    </tr>\n",
       "    <tr>\n",
       "      <th>175</th>\n",
       "      <td>0.268</td>\n",
       "      <td>1.0</td>\n",
       "      <td>0.0</td>\n",
       "      <td>0.229730</td>\n",
       "      <td>0.7</td>\n",
       "      <td>0.533556</td>\n",
       "      <td>0.000000</td>\n",
       "      <td>1.0</td>\n",
       "      <td>1.0</td>\n",
       "      <td>0.136386</td>\n",
       "      <td>0.0</td>\n",
       "    </tr>\n",
       "    <tr>\n",
       "      <th>8635</th>\n",
       "      <td>0.602</td>\n",
       "      <td>0.5</td>\n",
       "      <td>1.0</td>\n",
       "      <td>0.148649</td>\n",
       "      <td>0.3</td>\n",
       "      <td>0.485815</td>\n",
       "      <td>0.000000</td>\n",
       "      <td>1.0</td>\n",
       "      <td>0.0</td>\n",
       "      <td>0.272621</td>\n",
       "      <td>1.0</td>\n",
       "    </tr>\n",
       "    <tr>\n",
       "      <th>3584</th>\n",
       "      <td>0.312</td>\n",
       "      <td>0.5</td>\n",
       "      <td>1.0</td>\n",
       "      <td>0.135135</td>\n",
       "      <td>0.8</td>\n",
       "      <td>0.211455</td>\n",
       "      <td>0.000000</td>\n",
       "      <td>0.0</td>\n",
       "      <td>1.0</td>\n",
       "      <td>0.122841</td>\n",
       "      <td>0.0</td>\n",
       "    </tr>\n",
       "    <tr>\n",
       "      <th>5681</th>\n",
       "      <td>0.358</td>\n",
       "      <td>1.0</td>\n",
       "      <td>0.0</td>\n",
       "      <td>0.283784</td>\n",
       "      <td>0.2</td>\n",
       "      <td>0.329881</td>\n",
       "      <td>0.000000</td>\n",
       "      <td>1.0</td>\n",
       "      <td>1.0</td>\n",
       "      <td>0.614628</td>\n",
       "      <td>0.0</td>\n",
       "    </tr>\n",
       "    <tr>\n",
       "      <th>5165</th>\n",
       "      <td>1.000</td>\n",
       "      <td>0.0</td>\n",
       "      <td>1.0</td>\n",
       "      <td>0.202703</td>\n",
       "      <td>0.7</td>\n",
       "      <td>0.561810</td>\n",
       "      <td>0.000000</td>\n",
       "      <td>0.0</td>\n",
       "      <td>0.0</td>\n",
       "      <td>0.017495</td>\n",
       "      <td>0.0</td>\n",
       "    </tr>\n",
       "    <tr>\n",
       "      <th>2335</th>\n",
       "      <td>0.748</td>\n",
       "      <td>0.5</td>\n",
       "      <td>0.0</td>\n",
       "      <td>0.405405</td>\n",
       "      <td>0.6</td>\n",
       "      <td>0.440271</td>\n",
       "      <td>0.333333</td>\n",
       "      <td>1.0</td>\n",
       "      <td>1.0</td>\n",
       "      <td>0.402741</td>\n",
       "      <td>1.0</td>\n",
       "    </tr>\n",
       "    <tr>\n",
       "      <th>4930</th>\n",
       "      <td>0.554</td>\n",
       "      <td>0.5</td>\n",
       "      <td>1.0</td>\n",
       "      <td>0.162162</td>\n",
       "      <td>0.6</td>\n",
       "      <td>0.447883</td>\n",
       "      <td>0.000000</td>\n",
       "      <td>1.0</td>\n",
       "      <td>1.0</td>\n",
       "      <td>0.590144</td>\n",
       "      <td>0.0</td>\n",
       "    </tr>\n",
       "    <tr>\n",
       "      <th>5659</th>\n",
       "      <td>0.392</td>\n",
       "      <td>0.0</td>\n",
       "      <td>0.0</td>\n",
       "      <td>0.459459</td>\n",
       "      <td>0.2</td>\n",
       "      <td>0.000000</td>\n",
       "      <td>0.000000</td>\n",
       "      <td>1.0</td>\n",
       "      <td>0.0</td>\n",
       "      <td>0.686670</td>\n",
       "      <td>1.0</td>\n",
       "    </tr>\n",
       "    <tr>\n",
       "      <th>3899</th>\n",
       "      <td>0.804</td>\n",
       "      <td>0.0</td>\n",
       "      <td>0.0</td>\n",
       "      <td>0.243243</td>\n",
       "      <td>0.2</td>\n",
       "      <td>0.477933</td>\n",
       "      <td>0.000000</td>\n",
       "      <td>1.0</td>\n",
       "      <td>0.0</td>\n",
       "      <td>0.621776</td>\n",
       "      <td>0.0</td>\n",
       "    </tr>\n",
       "  </tbody>\n",
       "</table>\n",
       "</div>"
      ],
      "text/plain": [
       "      CreditScore  Geography  Gender       Age  Tenure   Balance  \\\n",
       "7482        0.736        0.5     1.0  0.337838     0.5  0.528564   \n",
       "175         0.268        1.0     0.0  0.229730     0.7  0.533556   \n",
       "8635        0.602        0.5     1.0  0.148649     0.3  0.485815   \n",
       "3584        0.312        0.5     1.0  0.135135     0.8  0.211455   \n",
       "5681        0.358        1.0     0.0  0.283784     0.2  0.329881   \n",
       "5165        1.000        0.0     1.0  0.202703     0.7  0.561810   \n",
       "2335        0.748        0.5     0.0  0.405405     0.6  0.440271   \n",
       "4930        0.554        0.5     1.0  0.162162     0.6  0.447883   \n",
       "5659        0.392        0.0     0.0  0.459459     0.2  0.000000   \n",
       "3899        0.804        0.0     0.0  0.243243     0.2  0.477933   \n",
       "\n",
       "      NumOfProducts  HasCrCard  IsActiveMember  EstimatedSalary  Exited  \n",
       "7482       0.333333        1.0             0.0         0.164953     0.0  \n",
       "175        0.000000        1.0             1.0         0.136386     0.0  \n",
       "8635       0.000000        1.0             0.0         0.272621     1.0  \n",
       "3584       0.000000        0.0             1.0         0.122841     0.0  \n",
       "5681       0.000000        1.0             1.0         0.614628     0.0  \n",
       "5165       0.000000        0.0             0.0         0.017495     0.0  \n",
       "2335       0.333333        1.0             1.0         0.402741     1.0  \n",
       "4930       0.000000        1.0             1.0         0.590144     0.0  \n",
       "5659       0.000000        1.0             0.0         0.686670     1.0  \n",
       "3899       0.000000        1.0             0.0         0.621776     0.0  "
      ]
     },
     "execution_count": 14,
     "metadata": {},
     "output_type": "execute_result"
    }
   ],
   "source": [
    "#Normalizando los datos aplicando un scaler \n",
    "from sklearn.preprocessing import MinMaxScaler\n",
    "\n",
    "scaler = MinMaxScaler()\n",
    "data = pd.DataFrame(scaler.fit_transform(data), columns=data.columns)\n",
    "data.sample(10)"
   ]
  },
  {
   "cell_type": "markdown",
   "id": "106c84df",
   "metadata": {},
   "source": [
    "## Entrenamiento del modelo"
   ]
  },
  {
   "cell_type": "code",
   "execution_count": 15,
   "id": "21e4ba90-1206-4ce6-bdc8-6986e6b93ef5",
   "metadata": {},
   "outputs": [],
   "source": [
    "# Vamos a crear un modelo de regresion logistica\n",
    "from sklearn.model_selection import train_test_split\n",
    "from sklearn.linear_model import LogisticRegression\n"
   ]
  },
  {
   "cell_type": "code",
   "execution_count": 16,
   "id": "f45f3df3-bcbe-45f3-820c-82867e36d012",
   "metadata": {},
   "outputs": [],
   "source": [
    "# Generar los datos para poder separar la variable de respuesta de los datos que tenemos disponibles\n",
    "X = data.copy()\n",
    "y = X.pop(data.columns[-1])"
   ]
  },
  {
   "cell_type": "code",
   "execution_count": 17,
   "id": "8a6ee78f-7c8b-4810-a763-c8b20155ec28",
   "metadata": {},
   "outputs": [],
   "source": [
    "# Separar los datos en datos de entrenamiento y testing\n",
    "X_train, X_test, y_train, y_test = train_test_split( X, y, test_size=0.33, random_state=42)"
   ]
  },
  {
   "cell_type": "code",
   "execution_count": 18,
   "id": "409f0391-4500-41fd-85a9-e501ecdd9329",
   "metadata": {},
   "outputs": [],
   "source": [
    "# Crear el modelo y entrenarlo\n",
    "clf_lin =  LogisticRegression(random_state=0, solver='lbfgs', multi_class='multinomial').fit(X, y)"
   ]
  },
  {
   "cell_type": "markdown",
   "id": "9dc2f9e7",
   "metadata": {},
   "source": [
    "## Evaluación del modelo"
   ]
  },
  {
   "cell_type": "code",
   "execution_count": 19,
   "id": "753ab797-0b07-4e27-a497-9518034451a9",
   "metadata": {},
   "outputs": [
    {
     "data": {
      "image/png": "[encoded data removed]",
      "text/plain": [
       "<Figure size 900x900 with 2 Axes>"
      ]
     },
     "metadata": {},
     "output_type": "display_data"
    }
   ],
   "source": [
    "# Medir los resultados obtenidos usando una matriz de confusión\n",
    "import matplotlib.pyplot as plt\n",
    "import seaborn as sns\n",
    "from sklearn.metrics import confusion_matrix\n",
    "cm = confusion_matrix(y_test, clf_lin.predict(X_test))\n",
    "\n",
    "#Visualizar la matriz de confusión\n",
    "plt.figure(figsize=(9,9))\n",
    "plt.title('Confusion matrix')\n",
    "sns.heatmap(cm, annot=True, fmt='g', linewidths=.5, square=True, cmap='coolwarm')\n",
    "plt.ylabel('Actual label')\n",
    "plt.xlabel('Predicted label')\n",
    "plt.show()"
   ]
  },
  {
   "cell_type": "code",
   "execution_count": 20,
   "id": "1e21c8b3",
   "metadata": {},
   "outputs": [
    {
     "name": "stdout",
     "output_type": "stream",
     "text": [
      "Accuracy model: 0.817\n",
      "Exited Churn='NO': 0.973\n",
      "Exited Churn='YES': 0.173\n",
      "F1 Score: 0.269\n"
     ]
    }
   ],
   "source": [
    "# Metricas de éxito propuestas para evaluar el modelo, en todas se busca un valor cercano a 1\n",
    "from sklearn.metrics import accuracy_score, recall_score, f1_score\n",
    "\n",
    "# Predecir resultados con los datos de prueba\n",
    "prediction_test = clf_lin.predict(X_test)\n",
    "\n",
    "# Exactitud: proporción de predicciones correctas.\n",
    "print(f\"Accuracy model: {accuracy_score(y_test, prediction_test):.3f}\")\n",
    "\n",
    "# Sensibilidad: capacidad del modelo de identificar todas las muestras positivas para un label.\n",
    "print(f\"Exited Churn='NO': {recall_score(y_test, prediction_test, pos_label=0):.3f}\")\n",
    "print(f\"Exited Churn='YES': {recall_score(y_test, prediction_test, pos_label=1):.3f}\")\n",
    "\n",
    "# F1 Score: media armónica entre precisión y sensibilidad, nos da una mejor idea de que tan bien se comporta el modelo de forma global.\n",
    "print(f\"F1 Score: {f1_score(y_test, prediction_test):.3f}\")\n",
    "# En ocasiones, esta última metrica se usa en competiciones (Kaggle, DataDriven) para comparar modelos.\n"
   ]
  },
  {
   "cell_type": "markdown",
   "id": "8f3fabc9",
   "metadata": {},
   "source": [
    "## Exportación con pickle"
   ]
  },
  {
   "cell_type": "code",
   "execution_count": 21,
   "id": "20f25624-4ba7-4c0d-a79a-590d1884b7d0",
   "metadata": {},
   "outputs": [],
   "source": [
    "# Generar el binario del modelo para reutilizarlo, equivalencia de variables categoricas y caracteristicas del modelo\n",
    "import pickle\n",
    "#Tener en cuenta esta nota de la documentación de Python\n",
    "#\"Warning: The pickle module is not secure. Only unpickle data you trust.\"\n",
    "\n",
    "pickle.dump(clf_lin, open(\"models/model.pk\", \"wb\"))\n",
    "pickle.dump(column_equivalence, open(\"models/column_equivalence.pk\", \"wb\"))\n",
    "pickle.dump(features, open(\"models/features.pk\", \"wb\"))"
   ]
  }
 ],
 "metadata": {
  "kernelspec": {
   "display_name": "Python 3",
   "language": "python",
   "name": "python3"
  },
  "language_info": {
   "codemirror_mode": {
    "name": "ipython",
    "version": 3
   },
   "file_extension": ".py",
   "mimetype": "text/x-python",
   "name": "python",
   "nbconvert_exporter": "python",
   "pygments_lexer": "ipython3",
   "version": "3.12.1"
  }
 },
 "nbformat": 4,
 "nbformat_minor": 5
}
